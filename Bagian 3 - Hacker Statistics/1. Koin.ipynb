{
 "cells": [2],
 "metadata": {uang, gambar},
 "nbformat": 4,
 "nbformat_minor": 2
}
